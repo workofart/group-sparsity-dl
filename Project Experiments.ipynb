{
 "cells": [
  {
   "cell_type": "markdown",
   "metadata": {
    "colab_type": "text",
    "heading_collapsed": true,
    "id": "40o63YP7xR3d"
   },
   "source": [
    "# Import Libraries"
   ]
  },
  {
   "cell_type": "code",
   "execution_count": 0,
   "metadata": {
    "ExecuteTime": {
     "end_time": "2020-05-05T00:04:52.249082Z",
     "start_time": "2020-05-05T00:04:51.457865Z"
    },
    "colab": {},
    "colab_type": "code",
    "hidden": true,
    "id": "lpFx6U9jxR3e"
   },
   "outputs": [],
   "source": [
    "import torch\n",
    "import numpy as np\n",
    "import pandas as pd\n",
    "from torch.utils.data import Dataset, DataLoader\n",
    "import torchvision\n",
    "from torchvision import transforms\n",
    "from torch.autograd import Variable\n",
    "from torch.nn import functional as F\n",
    "from matplotlib.ticker import MultipleLocator\n",
    "from matplotlib.pyplot import figure"
   ]
  },
  {
   "cell_type": "markdown",
   "metadata": {
    "colab_type": "text",
    "heading_collapsed": true,
    "id": "Rmj-F_1sxR3i"
   },
   "source": [
    "# Constants"
   ]
  },
  {
   "cell_type": "code",
   "execution_count": 0,
   "metadata": {
    "ExecuteTime": {
     "end_time": "2020-05-05T11:20:13.219964Z",
     "start_time": "2020-05-05T11:20:13.217435Z"
    },
    "colab": {},
    "colab_type": "code",
    "hidden": true,
    "id": "OnSSv1NdxR3i"
   },
   "outputs": [],
   "source": [
    "BATCH_SIZE = 32\n",
    "COV_FILE = 'covtype.data'\n",
    "SDD_FILE = 'SDD.txt'"
   ]
  },
  {
   "cell_type": "markdown",
   "metadata": {
    "colab_type": "text",
    "heading_collapsed": true,
    "id": "VMzvk5IdxR3m"
   },
   "source": [
    "# SDD Dataset"
   ]
  },
  {
   "cell_type": "code",
   "execution_count": 0,
   "metadata": {
    "ExecuteTime": {
     "end_time": "2020-05-05T00:04:52.268547Z",
     "start_time": "2020-05-05T00:04:52.255684Z"
    },
    "colab": {},
    "colab_type": "code",
    "hidden": true,
    "id": "XDBIHdOqxR3n"
   },
   "outputs": [],
   "source": [
    "class SDDDataset(Dataset):\n",
    "    \n",
    "    def __init__(self, filename=None, X=[], y=[]):        \n",
    "        if filename is not None:\n",
    "            X = []\n",
    "            y = []\n",
    "            with open(filename) as f:\n",
    "                lines = f.read().split('\\n')\n",
    "\n",
    "\n",
    "            for line in lines:\n",
    "                if line != '':\n",
    "                    splitted = line.split(' ')\n",
    "                    X.append(np.array(list(map(lambda v: float(v), splitted[:-1]))))\n",
    "                    y.append(int(splitted[-1]) - 1) # convert to zero-based categorical labels\n",
    "            \n",
    "        self.X = np.array(X)\n",
    "        self.y = np.array(y)\n",
    "    \n",
    "    def __len__(self):\n",
    "        return len(self.y)\n",
    "   \n",
    "    def __getitem__(self, index):\n",
    "        return self.X[index], self.y[index]"
   ]
  },
  {
   "cell_type": "code",
   "execution_count": 0,
   "metadata": {
    "ExecuteTime": {
     "end_time": "2020-05-05T00:04:53.920274Z",
     "start_time": "2020-05-05T00:04:52.270539Z"
    },
    "colab": {},
    "colab_type": "code",
    "hidden": true,
    "id": "4cZoG6ZsxR3r",
    "outputId": "91b3790d-ec56-4118-b685-62517e899faf"
   },
   "outputs": [
    {
     "name": "stdout",
     "output_type": "stream",
     "text": [
      "40956 17553\n"
     ]
    }
   ],
   "source": [
    "# Split Train/Test/Val\n",
    "from sklearn.model_selection import train_test_split\n",
    "sdd_dataset = SDDDataset(SDD_FILE)\n",
    "\n",
    "X_train, X_test, y_train, y_test = train_test_split(sdd_dataset.X, sdd_dataset.y, train_size=0.7, test_size=0.3)\n",
    "print(len(X_train), len(X_test))\n",
    "\n",
    "# Create Dataset Instance\n",
    "sdd_train_dataset = SDDDataset(X=X_train, y=y_train)\n",
    "sdd_test_dataset = SDDDataset(X=X_test, y=y_test)\n",
    "sdd_train_loader = DataLoader(sdd_train_dataset, batch_size=BATCH_SIZE, shuffle=True)\n",
    "sdd_test_loader = DataLoader(sdd_test_dataset, batch_size=BATCH_SIZE, shuffle=True)"
   ]
  },
  {
   "cell_type": "markdown",
   "metadata": {
    "colab_type": "text",
    "heading_collapsed": true,
    "hidden": true,
    "id": "7g09zycgxR3w"
   },
   "source": [
    "## Checkout Data Format"
   ]
  },
  {
   "cell_type": "code",
   "execution_count": 0,
   "metadata": {
    "ExecuteTime": {
     "end_time": "2020-05-05T00:04:53.932605Z",
     "start_time": "2020-05-05T00:04:53.923146Z"
    },
    "colab": {},
    "colab_type": "code",
    "hidden": true,
    "id": "KeG108G8xR3w",
    "outputId": "670e15ff-43ef-4ad8-f5a8-f6c20c960432"
   },
   "outputs": [
    {
     "name": "stdout",
     "output_type": "stream",
     "text": [
      "58509 48\n",
      "(array([-3.0146e-07,  8.2603e-06, -1.1517e-05, -2.3098e-06, -1.4386e-06,\n",
      "       -2.1225e-05,  3.1718e-02,  3.1710e-02,  3.1721e-02, -3.2963e-02,\n",
      "       -3.2962e-02, -3.2941e-02,  7.6881e-04,  2.3244e-04,  5.9982e-04,\n",
      "        7.5698e-04,  2.4722e-04,  7.2498e-04,  8.9669e-01,  8.9669e-01,\n",
      "        8.9669e-01,  8.9658e-01,  8.9658e-01,  8.9656e-01,  7.6804e-03,\n",
      "        2.5736e-01, -7.1184e-01,  4.8789e-03, -9.5775e-02, -4.4126e-01,\n",
      "       -1.3168e-03, -1.3189e-03, -1.2477e-03, -4.3777e-03, -4.3841e-03,\n",
      "       -4.3893e-03, -6.6732e-01,  4.3662e+00,  6.0168e+00, -6.3308e-01,\n",
      "        2.9646e+00,  8.1198e+00, -1.4961e+00, -1.4961e+00, -1.4961e+00,\n",
      "       -1.4996e+00, -1.4996e+00, -1.4996e+00]), 0)\n",
      "[-3.0146e-07  8.2603e-06 -1.1517e-05 -2.3098e-06 -1.4386e-06 -2.1225e-05\n",
      "  3.1718e-02  3.1710e-02  3.1721e-02 -3.2963e-02 -3.2962e-02 -3.2941e-02\n",
      "  7.6881e-04  2.3244e-04  5.9982e-04  7.5698e-04  2.4722e-04  7.2498e-04\n",
      "  8.9669e-01  8.9669e-01  8.9669e-01  8.9658e-01  8.9658e-01  8.9656e-01\n",
      "  7.6804e-03  2.5736e-01 -7.1184e-01  4.8789e-03 -9.5775e-02 -4.4126e-01\n",
      " -1.3168e-03 -1.3189e-03 -1.2477e-03 -4.3777e-03 -4.3841e-03 -4.3893e-03\n",
      " -6.6732e-01  4.3662e+00  6.0168e+00 -6.3308e-01  2.9646e+00  8.1198e+00\n",
      " -1.4961e+00 -1.4961e+00 -1.4961e+00 -1.4996e+00 -1.4996e+00 -1.4996e+00]\n"
     ]
    }
   ],
   "source": [
    "print(len(sdd_dataset), len(sdd_dataset[0][0]))\n",
    "print(sdd_dataset[0])\n",
    "print(sdd_dataset[0][0])"
   ]
  },
  {
   "cell_type": "markdown",
   "metadata": {
    "colab_type": "text",
    "heading_collapsed": true,
    "id": "OuUXZmJixR3z"
   },
   "source": [
    "# MNIST Dataset"
   ]
  },
  {
   "cell_type": "code",
   "execution_count": 0,
   "metadata": {
    "ExecuteTime": {
     "end_time": "2020-05-05T00:30:46.720432Z",
     "start_time": "2020-05-05T00:30:46.668736Z"
    },
    "colab": {},
    "colab_type": "code",
    "hidden": true,
    "id": "0CGLNnbCxR3z",
    "outputId": "2171fb5b-4e6f-4557-c7fe-a5389c82fb0c"
   },
   "outputs": [
    {
     "name": "stdout",
     "output_type": "stream",
     "text": [
      "60000 10000\n"
     ]
    }
   ],
   "source": [
    "transform = transforms.Compose([\n",
    "    transforms.ToTensor()\n",
    "])\n",
    "\n",
    "\n",
    "mnist_train_dataset = torchvision.datasets.MNIST('.', train=True, transform=transform, target_transform=None, download=True)\n",
    "mnist_test_dataset = torchvision.datasets.MNIST('.', train=False, transform=transform, target_transform=None, download=True)\n",
    "mnist_train_loader = DataLoader(mnist_train_dataset, batch_size=BATCH_SIZE, shuffle=True)\n",
    "mnist_test_loader = DataLoader(mnist_test_dataset, batch_size=BATCH_SIZE, shuffle=True)\n",
    "print(len(mnist_train_dataset), len(mnist_test_dataset))"
   ]
  },
  {
   "cell_type": "markdown",
   "metadata": {
    "ExecuteTime": {
     "end_time": "2020-05-02T15:33:25.659433Z",
     "start_time": "2020-05-02T15:33:25.656922Z"
    },
    "colab_type": "text",
    "heading_collapsed": true,
    "hidden": true,
    "id": "0eLWvhKHxR33"
   },
   "source": [
    "## Checkout Data Format"
   ]
  },
  {
   "cell_type": "code",
   "execution_count": 0,
   "metadata": {
    "ExecuteTime": {
     "end_time": "2020-05-05T00:04:54.637645Z",
     "start_time": "2020-05-05T00:04:54.192259Z"
    },
    "colab": {},
    "colab_type": "code",
    "hidden": true,
    "id": "gd7APwLgxR34",
    "outputId": "c1f0ef17-5ba7-411d-b7aa-d78550a22bcc"
   },
   "outputs": [
    {
     "name": "stdout",
     "output_type": "stream",
     "text": [
      "torch.Size([32, 1, 28, 28])\n",
      "torch.Size([32])\n"
     ]
    },
    {
     "data": {
      "image/png": "[encoded data removed]",
      "text/plain": [
       "<Figure size 432x288 with 1 Axes>"
      ]
     },
     "metadata": {
      "tags": []
     },
     "output_type": "display_data"
    },
    {
     "name": "stdout",
     "output_type": "stream",
     "text": [
      "tensor(9)\n"
     ]
    }
   ],
   "source": [
    "# Checkout Data Format\n",
    "# from PIL import Image as im\n",
    "import cv2\n",
    "from matplotlib import pyplot as plt\n",
    "\n",
    "dataiter = iter(mnist_train_loader)\n",
    "images, labels = dataiter.next()\n",
    "\n",
    "print(images.shape)\n",
    "print(labels.shape)\n",
    "\n",
    "plt.imshow(images[0].reshape((28, 28)), cmap = 'gray', interpolation = 'bicubic')\n",
    "plt.show()\n",
    "print(labels[0])"
   ]
  },
  {
   "cell_type": "markdown",
   "metadata": {
    "colab_type": "text",
    "heading_collapsed": true,
    "id": "t-eI4HVpxR36"
   },
   "source": [
    "# Cover Dataset"
   ]
  },
  {
   "cell_type": "code",
   "execution_count": 0,
   "metadata": {
    "ExecuteTime": {
     "end_time": "2020-05-05T00:04:54.650259Z",
     "start_time": "2020-05-05T00:04:54.639813Z"
    },
    "colab": {},
    "colab_type": "code",
    "hidden": true,
    "id": "RHwXjPRjxR36"
   },
   "outputs": [],
   "source": [
    "class CoverDataset(Dataset):\n",
    "    \n",
    "    def __init__(self, filename=None, X=[], y=[]):        \n",
    "        if filename is not None:\n",
    "            X = []\n",
    "            y = []\n",
    "            with open(filename) as f:\n",
    "                lines = f.read().split('\\n')\n",
    "\n",
    "\n",
    "            for line in lines:\n",
    "                if line != '':\n",
    "                    splitted = line.split(',')\n",
    "                    X.append(np.array(list(map(lambda v: float(v), splitted[:-1]))))\n",
    "                    y.append(int(splitted[-1]) - 1) # convert to zero-based categorical labels\n",
    "            \n",
    "        self.X = np.array(X)\n",
    "        self.y = np.array(y)\n",
    "    \n",
    "    def __len__(self):\n",
    "        return len(self.y)\n",
    "   \n",
    "    def __getitem__(self, index):\n",
    "        return self.X[index], self.y[index]"
   ]
  },
  {
   "cell_type": "code",
   "execution_count": 0,
   "metadata": {
    "ExecuteTime": {
     "end_time": "2020-05-05T00:05:06.343337Z",
     "start_time": "2020-05-05T00:04:54.652459Z"
    },
    "colab": {},
    "colab_type": "code",
    "hidden": true,
    "id": "qiWz29-SxR38",
    "outputId": "d0ce5f4b-a38c-4e50-9535-3dc559c29532"
   },
   "outputs": [
    {
     "name": "stdout",
     "output_type": "stream",
     "text": [
      "406708 174304\n"
     ]
    }
   ],
   "source": [
    "# Split Train/Test/Val\n",
    "from sklearn.model_selection import train_test_split\n",
    "\n",
    "cover_dataset = CoverDataset(COV_FILE)\n",
    "X_train, X_test, y_train, y_test = train_test_split(cover_dataset.X, cover_dataset.y, train_size=0.7, test_size=0.3)\n",
    "print(len(X_train), len(X_test))\n",
    "\n",
    "# Create Dataset Instance\n",
    "cover_train_dataset = CoverDataset(X=X_train, y=y_train)\n",
    "cover_test_dataset = CoverDataset(X=X_test, y=y_test)\n",
    "cover_train_loader = DataLoader(cover_train_dataset, batch_size=BATCH_SIZE, shuffle=True)\n",
    "cover_test_loader = DataLoader(cover_test_dataset, batch_size=BATCH_SIZE, shuffle=True)"
   ]
  },
  {
   "cell_type": "markdown",
   "metadata": {
    "colab_type": "text",
    "heading_collapsed": true,
    "hidden": true,
    "id": "qeTmfVHQxR3-"
   },
   "source": [
    "## Checkout Data Format"
   ]
  },
  {
   "cell_type": "code",
   "execution_count": 0,
   "metadata": {
    "ExecuteTime": {
     "end_time": "2020-05-05T00:05:06.379623Z",
     "start_time": "2020-05-05T00:05:06.345220Z"
    },
    "colab": {},
    "colab_type": "code",
    "hidden": true,
    "id": "YlXyVWxcxR3_",
    "outputId": "0735a0df-3dc3-4bfe-dd04-db43b3c5e1ce"
   },
   "outputs": [
    {
     "name": "stdout",
     "output_type": "stream",
     "text": [
      "<class 'torch.Tensor'>\n",
      "torch.Size([32, 54])\n",
      "torch.Size([32])\n"
     ]
    }
   ],
   "source": [
    "# print(len(cover_dataset), len(cover_dataset[0][0]))\n",
    "# print(cover_dataset[0])\n",
    "# print(cover_dataset[0][0])\n",
    "\n",
    "dataiter = iter(cover_train_loader)\n",
    "images, labels = dataiter.next()\n",
    "print(type(images))\n",
    "print(images.shape)\n",
    "print(labels.shape)"
   ]
  },
  {
   "cell_type": "markdown",
   "metadata": {
    "colab_type": "text",
    "heading_collapsed": true,
    "id": "EiXAYLWKxR4B"
   },
   "source": [
    "# Build Model"
   ]
  },
  {
   "cell_type": "code",
   "execution_count": 0,
   "metadata": {
    "ExecuteTime": {
     "end_time": "2020-05-05T07:49:28.468110Z",
     "start_time": "2020-05-05T07:49:28.458125Z"
    },
    "code_folding": [],
    "colab": {},
    "colab_type": "code",
    "hidden": true,
    "id": "eDOxi8AlxR4C"
   },
   "outputs": [],
   "source": [
    "# Build Feed Forward Network\n",
    "class FeedForwardNetwork(torch.nn.Module):\n",
    "    def __init__(self, input_dim, num_classes):\n",
    "        self.input_dim = input_dim\n",
    "        super(FeedForwardNetwork, self).__init__()\n",
    "        self.hidden_dim = 32\n",
    "        self.ff1 = torch.nn.Linear(input_dim, self.hidden_dim)\n",
    "        self.ff2 = torch.nn.Linear(self.hidden_dim, self.hidden_dim)\n",
    "        self.out = torch.nn.Linear(self.hidden_dim, num_classes)\n",
    "\n",
    "    def forward(self, x):\n",
    "        return torch.nn.Sequential(\n",
    "                self.ff1,\n",
    "                torch.nn.ReLU(),\n",
    "                self.ff2,\n",
    "                torch.nn.ReLU(),\n",
    "                self.out\n",
    "        )(x.view(-1, self.input_dim))\n",
    "      "
   ]
  },
  {
   "cell_type": "code",
   "execution_count": 0,
   "metadata": {
    "colab": {},
    "colab_type": "code",
    "hidden": true,
    "id": "tmlYIh3gxcPS"
   },
   "outputs": [],
   "source": [
    "import torch\n",
    "import torch.nn as nn\n",
    "import torch.optim as optim\n",
    "from torch.autograd import Variable\n",
    "from torch.nn import functional as F\n",
    "\n",
    "#build multinomial logistic regression model\n",
    "class MNL(nn.Module):\n",
    "  def __init__(self, input_dim, output_dim):\n",
    "    super(MNL, self).__init__()\n",
    "    self.linear = torch.nn.Linear(input_dim, output_dim)\n",
    "\n",
    "  def forward(self, x):\n",
    "    outputs = self.linear(x)\n",
    "    return outputs"
   ]
  },
  {
   "cell_type": "markdown",
   "metadata": {
    "colab_type": "text",
    "heading_collapsed": true,
    "id": "KTi5p6kryA-Q"
   },
   "source": [
    "# Non-deep learning baseline"
   ]
  },
  {
   "cell_type": "code",
   "execution_count": 0,
   "metadata": {
    "colab": {},
    "colab_type": "code",
    "hidden": true,
    "id": "bRoGqiuTyAuC"
   },
   "outputs": [],
   "source": [
    "def train(model, input_data,test_data, optim, loss_func, EPOCHS=10, reg_lambda=None, reg_type='l1'):\n",
    "    episode_loss = 0\n",
    "    plot_loss = []\n",
    "    plot_accuracy = []\n",
    "    model.train()\n",
    "    for ep in range(1, EPOCHS+1):\n",
    "        correct = 0\n",
    "        for idx, data in enumerate(input_data):   \n",
    "            X_, y_ = data[0].type(torch.float32), data[1].type(torch.long)\n",
    "            X_ = X_.view(X_.size()[0],-1)\n",
    "            y_pred = model.forward(X_)\n",
    "            loss = loss_func(y_pred, y_)\n",
    "        \n",
    "            # Add custom regularization term\n",
    "            if reg_lambda is not None:\n",
    "                reg_term = torch.tensor(0., requires_grad=True)          \n",
    "                if reg_type == 'l1':\n",
    "                  for W in model.parameters():      #tensor.norm() \n",
    "                    reg_term = reg_term + W.norm(1)\n",
    "                elif reg_type == 'l2':\n",
    "                  for W in model.parameters():\n",
    "                    reg_term = reg_term + torch.pow(W.norm(2), 2)\n",
    "                  reg_term = torch.sqrt(reg_term) \n",
    "                \n",
    "                loss += reg_lambda * reg_term\n",
    "                \n",
    "            episode_loss += loss.item()\n",
    "            \n",
    "            y_pred = torch.argmax(y_pred, axis=1)\n",
    "            correct += np.sum(y_pred.detach().numpy() == y_.detach().numpy())\n",
    "\n",
    "            optim.zero_grad()\n",
    "            loss.backward()\n",
    "            optim.step()\n",
    "            \n",
    "        ep_loss = episode_loss / len(input_data.dataset)\n",
    "        ep_accuracy = correct / len(input_data.dataset) \n",
    "        plot_loss.append(ep_loss)\n",
    "        plot_accuracy.append(ep_accuracy)\n",
    "        episode_loss = 0\n",
    "    \n",
    "        loss, accuracy = evaluate(model, test_data, loss_function)\n",
    "        print('ep: ', ep, ' elu loss: ',loss, ' elu accuracy: ', accuracy)"
   ]
  },
  {
   "cell_type": "code",
   "execution_count": 0,
   "metadata": {
    "colab": {},
    "colab_type": "code",
    "hidden": true,
    "id": "VM6876Hpyvdx"
   },
   "outputs": [],
   "source": [
    "# Evaluate\n",
    "def evaluate(model_, input_data, loss):\n",
    "    model_.eval()\n",
    "    with torch.no_grad():\n",
    "        correct = 0\n",
    "        ep_loss = 0\n",
    "        ep_accuracy = 0\n",
    "        episode_loss = 0\n",
    "        for idx, data in enumerate(input_data):\n",
    "            X_, y_ = data[0].type(torch.float32), data[1].type(torch.long)\n",
    "            X_ = X_.view(X_.size()[0],-1)\n",
    "            y_pred = model_.forward(X_)\n",
    "            \n",
    "            loss_ = loss(y_pred, y_)\n",
    "            episode_loss += loss_.item()\n",
    "\n",
    "            y_pred = torch.argmax(y_pred, axis=1)\n",
    "            correct += np.sum(y_pred.detach().numpy() == y_.detach().numpy())\n",
    "            \n",
    "        ep_loss = episode_loss / len(input_data.dataset)\n",
    "        ep_accuracy = correct / len(input_data.dataset)\n",
    "    return ep_loss, ep_accuracy"
   ]
  },
  {
   "cell_type": "code",
   "execution_count": 0,
   "metadata": {
    "colab": {
     "base_uri": "https://localhost:8080/",
     "height": 189
    },
    "colab_type": "code",
    "hidden": true,
    "id": "o8bLU1CguPyG",
    "outputId": "5f2f4465-96e0-4862-a274-665a14588bc1"
   },
   "outputs": [
    {
     "name": "stdout",
     "output_type": "stream",
     "text": [
      "ep:  1  elu loss:  0.027319165105343806  elu accuracy:  0.6653490453460621\n",
      "ep:  2  elu loss:  0.026249201947965765  elu accuracy:  0.644701211676152\n",
      "ep:  3  elu loss:  0.0277624208046175  elu accuracy:  0.6233706627501376\n",
      "ep:  4  elu loss:  0.02700124476641849  elu accuracy:  0.6608798421149257\n",
      "ep:  5  elu loss:  0.02738098642881669  elu accuracy:  0.612275105562695\n",
      "ep:  6  elu loss:  0.0277285349413572  elu accuracy:  0.6500596658711217\n",
      "ep:  7  elu loss:  0.028096005749706283  elu accuracy:  0.6392853864512575\n",
      "ep:  8  elu loss:  0.025599724770772724  elu accuracy:  0.6750619607123187\n",
      "ep:  9  elu loss:  0.025859003735776997  elu accuracy:  0.6661465026620158\n",
      "ep:  10  elu loss:  0.0336210993950397  elu accuracy:  0.5083991187809803\n"
     ]
    }
   ],
   "source": [
    "loss_function = torch.nn.CrossEntropyLoss()\n",
    "result = {}\n",
    "model = MNL(54, 7)\n",
    "lr = 1e-4\n",
    "optim = torch.optim.Adam(model.parameters(), lr=lr)\n",
    "reg = 0.1\n",
    "train(model, cover_train_loader,cover_test_loader, optim, loss_function, EPOCHS=10, reg_lambda=reg, reg_type='l1')\n",
    "#loss, accuracy = evaluate(model, cover_test_loader, loss_function)\n"
   ]
  },
  {
   "cell_type": "code",
   "execution_count": 0,
   "metadata": {
    "colab": {
     "base_uri": "https://localhost:8080/",
     "height": 189
    },
    "colab_type": "code",
    "hidden": true,
    "id": "NfyN5lvfsh4g",
    "outputId": "a92cbab9-2e90-4327-d08b-14a35727ab18"
   },
   "outputs": [
    {
     "name": "stdout",
     "output_type": "stream",
     "text": [
      "ep:  1  elu loss:  0.022483041512966154  elu accuracy:  0.8634\n",
      "ep:  2  elu loss:  0.0176178922355175  elu accuracy:  0.8816\n",
      "ep:  3  elu loss:  0.01619058762639761  elu accuracy:  0.8889\n",
      "ep:  4  elu loss:  0.015624389216303826  elu accuracy:  0.8917\n",
      "ep:  5  elu loss:  0.015323083113133908  elu accuracy:  0.8921\n",
      "ep:  6  elu loss:  0.015170720106363297  elu accuracy:  0.8939\n",
      "ep:  7  elu loss:  0.01507567046135664  elu accuracy:  0.8938\n",
      "ep:  8  elu loss:  0.015036766570806503  elu accuracy:  0.8961\n",
      "ep:  9  elu loss:  0.015011443389952183  elu accuracy:  0.8934\n",
      "ep:  10  elu loss:  0.014999215734004975  elu accuracy:  0.8953\n"
     ]
    }
   ],
   "source": [
    "loss_function = torch.nn.CrossEntropyLoss()\n",
    "result = {}\n",
    "model = MNL(784, 10)\n",
    "lr = 1e-4\n",
    "optim = torch.optim.Adam(model.parameters(), lr=lr)\n",
    "reg = 0.1\n",
    "train(model, mnist_train_loader,mnist_test_loader, optim, loss_function, EPOCHS=10, reg_lambda=reg, reg_type='l2')"
   ]
  },
  {
   "cell_type": "code",
   "execution_count": 0,
   "metadata": {
    "colab": {
     "base_uri": "https://localhost:8080/",
     "height": 189
    },
    "colab_type": "code",
    "hidden": true,
    "id": "2HZqaTKAw3g_",
    "outputId": "a1516fe2-eb82-457b-ed97-47de5f6fbfb4"
   },
   "outputs": [
    {
     "name": "stdout",
     "output_type": "stream",
     "text": [
      "ep:  1  elu loss:  0.06919225967012566  elu accuracy:  0.3400558309120948\n",
      "ep:  2  elu loss:  0.06431762074525015  elu accuracy:  0.4212385347234091\n",
      "ep:  3  elu loss:  0.06095698935445106  elu accuracy:  0.48396285535236144\n",
      "ep:  4  elu loss:  0.058220355577131476  elu accuracy:  0.5128468068136501\n",
      "ep:  5  elu loss:  0.055510626086168385  elu accuracy:  0.525608158149604\n",
      "ep:  6  elu loss:  0.05355441177060433  elu accuracy:  0.5715262348316527\n",
      "ep:  7  elu loss:  0.05145102499258428  elu accuracy:  0.5828633282060046\n",
      "ep:  8  elu loss:  0.04979593260895525  elu accuracy:  0.6087848231071612\n",
      "ep:  9  elu loss:  0.04857393287834072  elu accuracy:  0.5995556315159801\n",
      "ep:  10  elu loss:  0.04706628861294467  elu accuracy:  0.6280977610664844\n"
     ]
    }
   ],
   "source": [
    "loss_function = torch.nn.CrossEntropyLoss()\n",
    "result = {}\n",
    "model = MNL(48, 11)\n",
    "lr = 1e-3\n",
    "optim = torch.optim.Adam(model.parameters(), lr=lr)\n",
    "reg = 0.001\n",
    "train(model, sdd_train_loader,sdd_test_loader, optim, loss_function, EPOCHS=10, reg_lambda=reg, reg_type='l2')"
   ]
  },
  {
   "cell_type": "markdown",
   "metadata": {
    "colab_type": "text",
    "heading_collapsed": true,
    "id": "SSR27dN8xR4E"
   },
   "source": [
    "# Training Functions"
   ]
  },
  {
   "cell_type": "code",
   "execution_count": 0,
   "metadata": {
    "ExecuteTime": {
     "end_time": "2020-05-05T09:41:57.213065Z",
     "start_time": "2020-05-05T09:41:57.166327Z"
    },
    "code_folding": [],
    "colab": {},
    "colab_type": "code",
    "hidden": true,
    "id": "efA1-f6hxR4F"
   },
   "outputs": [],
   "source": [
    "# Training\n",
    "def train(model, input_data, optim, loss_func, EPOCHS=10, reg_lambda=None, reg_type='l1'):\n",
    "    episode_loss = 0\n",
    "    plot_loss = []\n",
    "    plot_accuracy = []\n",
    "    model.train()\n",
    "    for ep in range(1, EPOCHS+1):\n",
    "        correct = 0\n",
    "        for idx, data in enumerate(input_data):   \n",
    "            X_, y_ = data[0].type(torch.float32), data[1].type(torch.long)\n",
    "            y_pred = model.forward(X_)\n",
    "            loss = loss_func(y_pred, y_)\n",
    "        \n",
    "            # Add custom regularization term\n",
    "            if reg_lambda is not None:\n",
    "                reg_term = torch.tensor(0., requires_grad=True)\n",
    "                for W in model.parameters():\n",
    "                    if reg_type == 'group_lasso':\n",
    "                        reg_term = reg_term + np.sqrt(W.shape[0]) * W.norm(2)                    \n",
    "                    elif reg_type == 'l1':\n",
    "                        reg_term = reg_term + W.norm(1)\n",
    "                    elif reg_type == 'sparse_group_lasso':\n",
    "                        reg_term = reg_term + np.sqrt(W.shape[0]) * W.norm(2) + W.norm(1)\n",
    "\n",
    "                loss += reg_lambda * reg_term\n",
    "                \n",
    "            episode_loss += loss.item()\n",
    "            \n",
    "            y_pred = torch.argmax(y_pred, axis=1)\n",
    "            correct += np.sum(y_pred.detach().numpy() == y_.detach().numpy())\n",
    "\n",
    "            optim.zero_grad()\n",
    "            loss.backward()\n",
    "            optim.step()\n",
    "            \n",
    "        ep_loss = episode_loss / len(input_data.dataset)\n",
    "        ep_accuracy = correct / len(input_data.dataset)\n",
    "#         print('Train EP: {} | Loss: {:.4f} | Accuracy: {:.3f}'.format(ep, ep_loss, ep_accuracy))    \n",
    "        plot_loss.append(ep_loss)\n",
    "        plot_accuracy.append(ep_accuracy)\n",
    "        episode_loss = 0\n",
    "    \n",
    "    \n",
    "    # Return non-zero neurons\n",
    "    total = 0\n",
    "    non_zero = 0\n",
    "    for W in model.parameters():\n",
    "        weights = np.array(W.data)\n",
    "#         print(weights[(weights < -1e-7) | (weights > 1e-7)].ravel())\n",
    "        non_zero += len(weights[(weights < -1e-7) | (weights > 1e-7)].ravel())\n",
    "        total += len(weights.ravel())\n",
    "#         print(f'Non-zero neurons: {non_zero}/{total}')\n",
    "        \n",
    "    return plot_loss, plot_accuracy, f'{non_zero}/{total}'"
   ]
  },
  {
   "cell_type": "code",
   "execution_count": 0,
   "metadata": {
    "ExecuteTime": {
     "end_time": "2020-05-05T00:05:06.465886Z",
     "start_time": "2020-05-05T00:05:06.452675Z"
    },
    "code_folding": [
     0
    ],
    "colab": {},
    "colab_type": "code",
    "hidden": true,
    "id": "0FWQzoYYxR4H"
   },
   "outputs": [],
   "source": [
    "# Evaluate\n",
    "def evaluate(model_, input_data, loss):\n",
    "    model_.eval()\n",
    "    with torch.no_grad():\n",
    "        correct = 0\n",
    "        ep_loss = 0\n",
    "        ep_accuracy = 0\n",
    "        episode_loss = 0\n",
    "        for idx, data in enumerate(input_data):\n",
    "            X_, y_ = data[0].type(torch.float32), data[1].type(torch.long)\n",
    "#             X_, y_ = torch.tensor(data[0],dtype=torch.float32), torch.tensor(data[1], dtype=torch.long)\n",
    "            y_pred = model_.forward(X_)\n",
    "            \n",
    "            loss_ = loss(y_pred, y_)\n",
    "            episode_loss += loss_.item()\n",
    "\n",
    "            y_pred = torch.argmax(y_pred, axis=1)\n",
    "            correct += np.sum(y_pred.detach().numpy() == y_.detach().numpy())\n",
    "            \n",
    "        ep_loss = episode_loss / len(input_data.dataset)\n",
    "        ep_accuracy = correct / len(input_data.dataset)\n",
    "        \n",
    "#         print('Test | Loss: {:.4f} | Accuracy: {:.3f}'.format(ep_loss, ep_accuracy))\n",
    "    return ep_loss, ep_accuracy"
   ]
  },
  {
   "cell_type": "code",
   "execution_count": 0,
   "metadata": {
    "ExecuteTime": {
     "end_time": "2020-05-05T00:05:06.484698Z",
     "start_time": "2020-05-05T00:05:06.468186Z"
    },
    "code_folding": [],
    "colab": {},
    "colab_type": "code",
    "hidden": true,
    "id": "4Of1UOtUxR4K"
   },
   "outputs": [],
   "source": [
    "# Plot\n",
    "def plot_graph(loss, accuracy, title, file, prefix):\n",
    "    fig, axs = plt.subplots(2, 1, figsize=(6,10), dpi=80)\n",
    "    \n",
    "    axs[0].set_title(title)\n",
    "    axs[0].plot(list(range(len(accuracy))), accuracy, label='accuracy', color='blue')\n",
    "    axs[0].yaxis.set_major_locator(plt.MaxNLocator(10))\n",
    "    axs[0].xaxis.set_major_locator(plt.MaxNLocator(20, integer=True))\n",
    "    axs[0].set_ylabel('Accuracy')\n",
    "    axs[0].set_xlabel('Episodes')\n",
    "    axs[0].legend()\n",
    "    \n",
    "    axs[1].plot(list(range(len(loss))), loss, label='loss', color='red')\n",
    "    axs[1].yaxis.set_major_locator(plt.MaxNLocator(10))\n",
    "    axs[1].xaxis.set_major_locator(plt.MaxNLocator(20, integer=True))\n",
    "    axs[1].set_ylabel('Loss')\n",
    "    axs[1].set_xlabel('Episodes')\n",
    "    axs[1].legend()\n",
    "    plt.savefig(f'{prefix}_{file}.png')\n",
    "    plt.close()\n",
    "#     plt.show()"
   ]
  },
  {
   "cell_type": "markdown",
   "metadata": {
    "colab_type": "text",
    "heading_collapsed": true,
    "id": "VRO2ck94xR4M"
   },
   "source": [
    "# Run Function"
   ]
  },
  {
   "cell_type": "code",
   "execution_count": 0,
   "metadata": {
    "ExecuteTime": {
     "end_time": "2020-05-05T11:20:23.662539Z",
     "start_time": "2020-05-05T11:20:23.644723Z"
    },
    "code_folding": [],
    "colab": {},
    "colab_type": "code",
    "hidden": true,
    "id": "iSy7yxckxR4M",
    "scrolled": false
   },
   "outputs": [],
   "source": [
    "def runner(prefix, optimizer, name, train_data, test_data, num_features, num_classes, EP=20, reg_type='l1'):    \n",
    "    loss_function = torch.nn.CrossEntropyLoss()\n",
    "    LR = [5e-3, 1e-3, 1e-4]\n",
    "#     REG = [0, 1e-3, 1e-4, 1e-5]\n",
    "    REG = [1e-3, 1e-4, 1e-5]\n",
    "    results = []\n",
    "    for lr in LR:\n",
    "        for reg in REG:\n",
    "            result = {}\n",
    "            ff_network = FeedForwardNetwork(num_features, num_classes)\n",
    "            if reg_type == 'l2':\n",
    "                optim = optimizer(ff_network.parameters(), lr=lr, weight_decay=reg)\n",
    "            else:\n",
    "                optim = optimizer(ff_network.parameters(), lr=lr)\n",
    "            loss, accuracy, non_zero = train(ff_network, train_data, optim, loss_function, EPOCHS=EP, reg_lambda=reg, reg_type=reg_type)\n",
    "            result = {\n",
    "                'type': 'train',\n",
    "                'model': 'ff',\n",
    "                'lr': lr,\n",
    "                'optim': name,\n",
    "                'reg_type': reg_type,\n",
    "                'reg_lambda': reg,\n",
    "                'loss': loss[-1],\n",
    "                'accuracy': accuracy[-1],\n",
    "                'non_zero_neurons': non_zero\n",
    "            }\n",
    "            results.append(result)\n",
    "            plot_graph(loss, accuracy, title=f'LR: {lr} | Optimizer: {name}\\nReg: {reg_type} | Lambda: {reg}', file=f'ff_{lr}_{name}_{reg_type}_{reg}', prefix=prefix)\n",
    "            loss, accuracy = evaluate(ff_network, test_data, loss_function)\n",
    "            result = {\n",
    "                'type': 'test',\n",
    "                'model': 'ff',\n",
    "                'lr': lr,\n",
    "                'optim': name,\n",
    "                'reg_type': reg_type,\n",
    "                'reg_lambda': reg,\n",
    "                'loss': loss,\n",
    "                'accuracy': accuracy\n",
    "            }\n",
    "            results.append(result)\n",
    "    return results"
   ]
  },
  {
   "cell_type": "code",
   "execution_count": 0,
   "metadata": {
    "ExecuteTime": {
     "end_time": "2020-05-05T11:20:27.300795Z",
     "start_time": "2020-05-05T11:20:27.297494Z"
    },
    "code_folding": [],
    "colab": {},
    "colab_type": "code",
    "hidden": true,
    "id": "oZ1nTXTwxR4P"
   },
   "outputs": [],
   "source": [
    "import json\n",
    "\n",
    "def write_results(prefix, results):\n",
    "    with open(f'{prefix}_results.json', 'w') as f:\n",
    "        json.dump(results, f, indent=4)"
   ]
  },
  {
   "cell_type": "markdown",
   "metadata": {
    "colab_type": "text",
    "heading_collapsed": true,
    "id": "n2-QpRaExR4S"
   },
   "source": [
    "# SDD Run"
   ]
  },
  {
   "cell_type": "code",
   "execution_count": 0,
   "metadata": {
    "ExecuteTime": {
     "end_time": "2020-05-05T10:52:07.323776Z",
     "start_time": "2020-05-05T10:05:43.759246Z"
    },
    "code_folding": [],
    "colab": {},
    "colab_type": "code",
    "hidden": true,
    "id": "hmUJqlovxR4S",
    "outputId": "dec0a773-fd51-4282-ffef-fb5e09e43a4e",
    "scrolled": false
   },
   "outputs": [
    {
     "name": "stdout",
     "output_type": "stream",
     "text": [
      "Num Features: 48\n"
     ]
    }
   ],
   "source": [
    "OPTIM = [\n",
    "    (torch.optim.Adam, 'Adam'),\n",
    "    (torch.optim.RMSprop, 'RMSprop'),\n",
    "    (torch.optim.SGD, 'SGD'),\n",
    "    (torch.optim.Adamax, 'AdaMax'),\n",
    "]\n",
    "results = []\n",
    "num_features = len(sdd_dataset[0][0])\n",
    "print(f'Num Features: {num_features}')\n",
    "REG_TYPES = ['sparse_group_lasso', 'group_lasso']\n",
    "for reg_type in REG_TYPES:\n",
    "    for optim in OPTIM:\n",
    "        results += runner('sdd', optim[0], optim[1], sdd_train_loader, sdd_test_loader, num_features=num_features, num_classes=11, reg_type=reg_type)\n",
    "\n",
    "write_results('sdd', results)"
   ]
  },
  {
   "cell_type": "markdown",
   "metadata": {
    "colab_type": "text",
    "heading_collapsed": true,
    "id": "LoJjR5TGxR4U"
   },
   "source": [
    "# MNIST Run"
   ]
  },
  {
   "cell_type": "code",
   "execution_count": 0,
   "metadata": {
    "ExecuteTime": {
     "end_time": "2020-05-05T09:26:11.843126Z",
     "start_time": "2020-05-05T09:23:07.643834Z"
    },
    "colab": {},
    "colab_type": "code",
    "hidden": true,
    "id": "pVTlzU7PxR4U",
    "outputId": "2748bdad-9959-4c7d-d03a-030361b52957"
   },
   "outputs": [
    {
     "name": "stdout",
     "output_type": "stream",
     "text": [
      "<class 'torch.Tensor'>\n",
      "torch.Size([32, 1, 28, 28])\n",
      "torch.Size([32])\n",
      "Train EP: 1 | Loss: 0.0129 | Accuracy: 0.889\n",
      "Train EP: 2 | Loss: 0.0068 | Accuracy: 0.939\n",
      "Train EP: 3 | Loss: 0.0054 | Accuracy: 0.954\n",
      "Train EP: 4 | Loss: 0.0046 | Accuracy: 0.961\n",
      "Train EP: 5 | Loss: 0.0040 | Accuracy: 0.967\n",
      "Train EP: 6 | Loss: 0.0037 | Accuracy: 0.970\n",
      "Train EP: 7 | Loss: 0.0034 | Accuracy: 0.972\n",
      "Train EP: 8 | Loss: 0.0031 | Accuracy: 0.975\n",
      "Train EP: 9 | Loss: 0.0029 | Accuracy: 0.977\n",
      "Train EP: 10 | Loss: 0.0028 | Accuracy: 0.978\n",
      "Train EP: 11 | Loss: 0.0026 | Accuracy: 0.980\n",
      "Train EP: 12 | Loss: 0.0025 | Accuracy: 0.981\n",
      "Train EP: 13 | Loss: 0.0024 | Accuracy: 0.982\n",
      "Train EP: 14 | Loss: 0.0023 | Accuracy: 0.983\n",
      "Train EP: 15 | Loss: 0.0022 | Accuracy: 0.984\n",
      "Train EP: 16 | Loss: 0.0021 | Accuracy: 0.985\n",
      "Train EP: 17 | Loss: 0.0021 | Accuracy: 0.985\n",
      "Train EP: 18 | Loss: 0.0020 | Accuracy: 0.986\n",
      "Train EP: 19 | Loss: 0.0019 | Accuracy: 0.987\n",
      "Train EP: 20 | Loss: 0.0019 | Accuracy: 0.987\n",
      "Non-zero neurons: 25076/25088\n",
      "Non-zero neurons: 32/32\n",
      "Non-zero neurons: 1024/1024\n",
      "Non-zero neurons: 32/32\n",
      "Non-zero neurons: 320/320\n",
      "Non-zero neurons: 10/10\n"
     ]
    }
   ],
   "source": [
    "OPTIM = [\n",
    "    (torch.optim.Adam, 'Adam'),\n",
    "    (torch.optim.RMSprop, 'RMSprop'),\n",
    "    (torch.optim.SGD, 'SGD'),\n",
    "    (torch.optim.Adamax, 'AdaMax'),\n",
    "]\n",
    "dataiter = iter(mnist_train_loader)\n",
    "images, labels = dataiter.next()\n",
    "print(type(images))\n",
    "print(images.shape)\n",
    "print(labels.shape)\n",
    "\n",
    "num_features = images.shape[2]*images.shape[3]\n",
    "num_classes = 10\n",
    "results = []\n",
    "REG_TYPES = ['sparse_group_lasso', 'group_lasso']\n",
    "for reg_type in REG_TYPES:\n",
    "    for optim in OPTIM:\n",
    "        results += runner('mnist', optim[0], optim[1], mnist_train_loader, mnist_test_loader, num_features=num_features, num_classes=num_classes, reg_type=reg_type)\n",
    "\n",
    "write_results('mnist', results)"
   ]
  },
  {
   "cell_type": "markdown",
   "metadata": {
    "colab_type": "text",
    "heading_collapsed": true,
    "id": "Khjo7G72xR4X"
   },
   "source": [
    "# Cover Run"
   ]
  },
  {
   "cell_type": "code",
   "execution_count": 0,
   "metadata": {
    "ExecuteTime": {
     "end_time": "2020-05-05T11:10:00.434947Z",
     "start_time": "2020-05-05T11:06:47.160615Z"
    },
    "colab": {},
    "colab_type": "code",
    "hidden": true,
    "id": "GzE9qc9VxR4X"
   },
   "outputs": [],
   "source": [
    "OPTIM = [\n",
    "    (torch.optim.Adam, 'Adam'),\n",
    "    (torch.optim.RMSprop, 'RMSprop'),\n",
    "    (torch.optim.SGD, 'SGD'),\n",
    "    (torch.optim.Adamax, 'AdaMax'),\n",
    "]\n",
    "\n",
    "results = []\n",
    "for optim in OPTIM:\n",
    "    results += runner('cover', optim[0], optim[1], cover_train_loader, cover_test_loader, num_features=len(cover_dataset[0][0]), num_classes=7)\n",
    "\n",
    "write_results('cover', results)"
   ]
  }
 ],
 "metadata": {
  "colab": {
   "name": "522_final_project.ipynb",
   "provenance": []
  },
  "kernelspec": {
   "display_name": "Python 3",
   "language": "python",
   "name": "python3"
  },
  "language_info": {
   "codemirror_mode": {
    "name": "ipython",
    "version": 3
   },
   "file_extension": ".py",
   "mimetype": "text/x-python",
   "name": "python",
   "nbconvert_exporter": "python",
   "pygments_lexer": "ipython3",
   "version": "3.6.9"
  }
 },
 "nbformat": 4,
 "nbformat_minor": 1
}
